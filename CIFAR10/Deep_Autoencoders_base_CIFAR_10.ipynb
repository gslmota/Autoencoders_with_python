{
  "nbformat": 4,
  "nbformat_minor": 0,
  "metadata": {
    "colab": {
      "provenance": []
    },
    "kernelspec": {
      "name": "python3",
      "display_name": "Python 3"
    },
    "accelerator": "GPU",
    "widgets": {
      "application/vnd.jupyter.widget-state+json": {
        "e7634b4e6837481689d4e5433216de46": {
          "model_module": "@jupyter-widgets/controls",
          "model_name": "HBoxModel",
          "model_module_version": "1.5.0",
          "state": {
            "_dom_classes": [],
            "_model_module": "@jupyter-widgets/controls",
            "_model_module_version": "1.5.0",
            "_model_name": "HBoxModel",
            "_view_count": null,
            "_view_module": "@jupyter-widgets/controls",
            "_view_module_version": "1.5.0",
            "_view_name": "HBoxView",
            "box_style": "",
            "children": [
              "IPY_MODEL_963a3fd7839a4d34a8612d85a42f0ea9",
              "IPY_MODEL_2d9a8dca4e564d368a6942c82e79b789",
              "IPY_MODEL_546a410b43864d23bb6c24f61b1ade63"
            ],
            "layout": "IPY_MODEL_e6a53ad86f51458dbcc9314be6497014"
          }
        },
        "963a3fd7839a4d34a8612d85a42f0ea9": {
          "model_module": "@jupyter-widgets/controls",
          "model_name": "HTMLModel",
          "model_module_version": "1.5.0",
          "state": {
            "_dom_classes": [],
            "_model_module": "@jupyter-widgets/controls",
            "_model_module_version": "1.5.0",
            "_model_name": "HTMLModel",
            "_view_count": null,
            "_view_module": "@jupyter-widgets/controls",
            "_view_module_version": "1.5.0",
            "_view_name": "HTMLView",
            "description": "",
            "description_tooltip": null,
            "layout": "IPY_MODEL_1fcae623d9d94dd69df8bff790e54970",
            "placeholder": "​",
            "style": "IPY_MODEL_7973530badb94c009b40cc540c09831d",
            "value": "100%"
          }
        },
        "2d9a8dca4e564d368a6942c82e79b789": {
          "model_module": "@jupyter-widgets/controls",
          "model_name": "FloatProgressModel",
          "model_module_version": "1.5.0",
          "state": {
            "_dom_classes": [],
            "_model_module": "@jupyter-widgets/controls",
            "_model_module_version": "1.5.0",
            "_model_name": "FloatProgressModel",
            "_view_count": null,
            "_view_module": "@jupyter-widgets/controls",
            "_view_module_version": "1.5.0",
            "_view_name": "ProgressView",
            "bar_style": "success",
            "description": "",
            "description_tooltip": null,
            "layout": "IPY_MODEL_df770dc452df465796f274395c3a9c46",
            "max": 170498071,
            "min": 0,
            "orientation": "horizontal",
            "style": "IPY_MODEL_e9c06021cf344dbe940882deaa1061ea",
            "value": 170498071
          }
        },
        "546a410b43864d23bb6c24f61b1ade63": {
          "model_module": "@jupyter-widgets/controls",
          "model_name": "HTMLModel",
          "model_module_version": "1.5.0",
          "state": {
            "_dom_classes": [],
            "_model_module": "@jupyter-widgets/controls",
            "_model_module_version": "1.5.0",
            "_model_name": "HTMLModel",
            "_view_count": null,
            "_view_module": "@jupyter-widgets/controls",
            "_view_module_version": "1.5.0",
            "_view_name": "HTMLView",
            "description": "",
            "description_tooltip": null,
            "layout": "IPY_MODEL_bdf3cbd7f01048ce8df647e492f29c79",
            "placeholder": "​",
            "style": "IPY_MODEL_fabdcb472cba442b96133b06ce37db59",
            "value": " 170498071/170498071 [00:15&lt;00:00, 12474292.82it/s]"
          }
        },
        "e6a53ad86f51458dbcc9314be6497014": {
          "model_module": "@jupyter-widgets/base",
          "model_name": "LayoutModel",
          "model_module_version": "1.2.0",
          "state": {
            "_model_module": "@jupyter-widgets/base",
            "_model_module_version": "1.2.0",
            "_model_name": "LayoutModel",
            "_view_count": null,
            "_view_module": "@jupyter-widgets/base",
            "_view_module_version": "1.2.0",
            "_view_name": "LayoutView",
            "align_content": null,
            "align_items": null,
            "align_self": null,
            "border": null,
            "bottom": null,
            "display": null,
            "flex": null,
            "flex_flow": null,
            "grid_area": null,
            "grid_auto_columns": null,
            "grid_auto_flow": null,
            "grid_auto_rows": null,
            "grid_column": null,
            "grid_gap": null,
            "grid_row": null,
            "grid_template_areas": null,
            "grid_template_columns": null,
            "grid_template_rows": null,
            "height": null,
            "justify_content": null,
            "justify_items": null,
            "left": null,
            "margin": null,
            "max_height": null,
            "max_width": null,
            "min_height": null,
            "min_width": null,
            "object_fit": null,
            "object_position": null,
            "order": null,
            "overflow": null,
            "overflow_x": null,
            "overflow_y": null,
            "padding": null,
            "right": null,
            "top": null,
            "visibility": null,
            "width": null
          }
        },
        "1fcae623d9d94dd69df8bff790e54970": {
          "model_module": "@jupyter-widgets/base",
          "model_name": "LayoutModel",
          "model_module_version": "1.2.0",
          "state": {
            "_model_module": "@jupyter-widgets/base",
            "_model_module_version": "1.2.0",
            "_model_name": "LayoutModel",
            "_view_count": null,
            "_view_module": "@jupyter-widgets/base",
            "_view_module_version": "1.2.0",
            "_view_name": "LayoutView",
            "align_content": null,
            "align_items": null,
            "align_self": null,
            "border": null,
            "bottom": null,
            "display": null,
            "flex": null,
            "flex_flow": null,
            "grid_area": null,
            "grid_auto_columns": null,
            "grid_auto_flow": null,
            "grid_auto_rows": null,
            "grid_column": null,
            "grid_gap": null,
            "grid_row": null,
            "grid_template_areas": null,
            "grid_template_columns": null,
            "grid_template_rows": null,
            "height": null,
            "justify_content": null,
            "justify_items": null,
            "left": null,
            "margin": null,
            "max_height": null,
            "max_width": null,
            "min_height": null,
            "min_width": null,
            "object_fit": null,
            "object_position": null,
            "order": null,
            "overflow": null,
            "overflow_x": null,
            "overflow_y": null,
            "padding": null,
            "right": null,
            "top": null,
            "visibility": null,
            "width": null
          }
        },
        "7973530badb94c009b40cc540c09831d": {
          "model_module": "@jupyter-widgets/controls",
          "model_name": "DescriptionStyleModel",
          "model_module_version": "1.5.0",
          "state": {
            "_model_module": "@jupyter-widgets/controls",
            "_model_module_version": "1.5.0",
            "_model_name": "DescriptionStyleModel",
            "_view_count": null,
            "_view_module": "@jupyter-widgets/base",
            "_view_module_version": "1.2.0",
            "_view_name": "StyleView",
            "description_width": ""
          }
        },
        "df770dc452df465796f274395c3a9c46": {
          "model_module": "@jupyter-widgets/base",
          "model_name": "LayoutModel",
          "model_module_version": "1.2.0",
          "state": {
            "_model_module": "@jupyter-widgets/base",
            "_model_module_version": "1.2.0",
            "_model_name": "LayoutModel",
            "_view_count": null,
            "_view_module": "@jupyter-widgets/base",
            "_view_module_version": "1.2.0",
            "_view_name": "LayoutView",
            "align_content": null,
            "align_items": null,
            "align_self": null,
            "border": null,
            "bottom": null,
            "display": null,
            "flex": null,
            "flex_flow": null,
            "grid_area": null,
            "grid_auto_columns": null,
            "grid_auto_flow": null,
            "grid_auto_rows": null,
            "grid_column": null,
            "grid_gap": null,
            "grid_row": null,
            "grid_template_areas": null,
            "grid_template_columns": null,
            "grid_template_rows": null,
            "height": null,
            "justify_content": null,
            "justify_items": null,
            "left": null,
            "margin": null,
            "max_height": null,
            "max_width": null,
            "min_height": null,
            "min_width": null,
            "object_fit": null,
            "object_position": null,
            "order": null,
            "overflow": null,
            "overflow_x": null,
            "overflow_y": null,
            "padding": null,
            "right": null,
            "top": null,
            "visibility": null,
            "width": null
          }
        },
        "e9c06021cf344dbe940882deaa1061ea": {
          "model_module": "@jupyter-widgets/controls",
          "model_name": "ProgressStyleModel",
          "model_module_version": "1.5.0",
          "state": {
            "_model_module": "@jupyter-widgets/controls",
            "_model_module_version": "1.5.0",
            "_model_name": "ProgressStyleModel",
            "_view_count": null,
            "_view_module": "@jupyter-widgets/base",
            "_view_module_version": "1.2.0",
            "_view_name": "StyleView",
            "bar_color": null,
            "description_width": ""
          }
        },
        "bdf3cbd7f01048ce8df647e492f29c79": {
          "model_module": "@jupyter-widgets/base",
          "model_name": "LayoutModel",
          "model_module_version": "1.2.0",
          "state": {
            "_model_module": "@jupyter-widgets/base",
            "_model_module_version": "1.2.0",
            "_model_name": "LayoutModel",
            "_view_count": null,
            "_view_module": "@jupyter-widgets/base",
            "_view_module_version": "1.2.0",
            "_view_name": "LayoutView",
            "align_content": null,
            "align_items": null,
            "align_self": null,
            "border": null,
            "bottom": null,
            "display": null,
            "flex": null,
            "flex_flow": null,
            "grid_area": null,
            "grid_auto_columns": null,
            "grid_auto_flow": null,
            "grid_auto_rows": null,
            "grid_column": null,
            "grid_gap": null,
            "grid_row": null,
            "grid_template_areas": null,
            "grid_template_columns": null,
            "grid_template_rows": null,
            "height": null,
            "justify_content": null,
            "justify_items": null,
            "left": null,
            "margin": null,
            "max_height": null,
            "max_width": null,
            "min_height": null,
            "min_width": null,
            "object_fit": null,
            "object_position": null,
            "order": null,
            "overflow": null,
            "overflow_x": null,
            "overflow_y": null,
            "padding": null,
            "right": null,
            "top": null,
            "visibility": null,
            "width": null
          }
        },
        "fabdcb472cba442b96133b06ce37db59": {
          "model_module": "@jupyter-widgets/controls",
          "model_name": "DescriptionStyleModel",
          "model_module_version": "1.5.0",
          "state": {
            "_model_module": "@jupyter-widgets/controls",
            "_model_module_version": "1.5.0",
            "_model_name": "DescriptionStyleModel",
            "_view_count": null,
            "_view_module": "@jupyter-widgets/base",
            "_view_module_version": "1.2.0",
            "_view_name": "StyleView",
            "description_width": ""
          }
        }
      }
    }
  },
  "cells": [
    {
      "cell_type": "markdown",
      "metadata": {
        "id": "5tP2BcEILoLB"
      },
      "source": [
        "## Etapa 1: Importação das bibliotecas"
      ]
    },
    {
      "cell_type": "code",
      "metadata": {
        "id": "Yf0FpJ35Lf-Z",
        "outputId": "cbb0d788-f1e1-4134-b13a-530a45010330",
        "colab": {
          "base_uri": "https://localhost:8080/",
          "height": 36
        }
      },
      "source": [
        "from torchvision import datasets, transforms\n",
        "import torch\n",
        "from torch import nn, optim\n",
        "import matplotlib.pyplot as plt\n",
        "torch.__version__"
      ],
      "execution_count": 1,
      "outputs": [
        {
          "output_type": "execute_result",
          "data": {
            "text/plain": [
              "'1.13.1+cu116'"
            ],
            "application/vnd.google.colaboratory.intrinsic+json": {
              "type": "string"
            }
          },
          "metadata": {},
          "execution_count": 1
        }
      ]
    },
    {
      "cell_type": "code",
      "metadata": {
        "id": "X1vw_qANCnRx",
        "outputId": "23a57267-e536-4d70-f287-e013c81313dd",
        "colab": {
          "base_uri": "https://localhost:8080/"
        }
      },
      "source": [
        "torch.manual_seed(123)"
      ],
      "execution_count": 2,
      "outputs": [
        {
          "output_type": "execute_result",
          "data": {
            "text/plain": [
              "<torch._C.Generator at 0x7fd680b69290>"
            ]
          },
          "metadata": {},
          "execution_count": 2
        }
      ]
    },
    {
      "cell_type": "markdown",
      "metadata": {
        "id": "C0SD4dJ4MDMN"
      },
      "source": [
        "## Etapa 2: Base de dados"
      ]
    },
    {
      "cell_type": "code",
      "metadata": {
        "id": "kPclooeTA_15",
        "outputId": "0ec65044-541e-46f3-aada-cc346c21d584",
        "colab": {
          "base_uri": "https://localhost:8080/",
          "height": 86,
          "referenced_widgets": [
            "e7634b4e6837481689d4e5433216de46",
            "963a3fd7839a4d34a8612d85a42f0ea9",
            "2d9a8dca4e564d368a6942c82e79b789",
            "546a410b43864d23bb6c24f61b1ade63",
            "e6a53ad86f51458dbcc9314be6497014",
            "1fcae623d9d94dd69df8bff790e54970",
            "7973530badb94c009b40cc540c09831d",
            "df770dc452df465796f274395c3a9c46",
            "e9c06021cf344dbe940882deaa1061ea",
            "bdf3cbd7f01048ce8df647e492f29c79",
            "fabdcb472cba442b96133b06ce37db59"
          ]
        }
      },
      "source": [
        "dataset_train = datasets.CIFAR10('CIFAR10-data', train = True, download = True, transform = transforms.ToTensor())\n",
        "loader_train = torch.utils.data.DataLoader(dataset_train, batch_size = 256, shuffle = True)"
      ],
      "execution_count": 3,
      "outputs": [
        {
          "output_type": "stream",
          "name": "stdout",
          "text": [
            "Downloading https://www.cs.toronto.edu/~kriz/cifar-10-python.tar.gz to CIFAR10-data/cifar-10-python.tar.gz\n"
          ]
        },
        {
          "output_type": "display_data",
          "data": {
            "text/plain": [
              "  0%|          | 0/170498071 [00:00<?, ?it/s]"
            ],
            "application/vnd.jupyter.widget-view+json": {
              "version_major": 2,
              "version_minor": 0,
              "model_id": "e7634b4e6837481689d4e5433216de46"
            }
          },
          "metadata": {}
        },
        {
          "output_type": "stream",
          "name": "stdout",
          "text": [
            "Extracting CIFAR10-data/cifar-10-python.tar.gz to CIFAR10-data\n"
          ]
        }
      ]
    },
    {
      "cell_type": "code",
      "metadata": {
        "id": "WNzijlDYBIm1",
        "colab": {
          "base_uri": "https://localhost:8080/"
        },
        "outputId": "55022d7c-69e3-455f-b052-75ac5f329c16"
      },
      "source": [
        "dataset_val = datasets.CIFAR10('CIFAR10-data', train = False, download = True, transform = transforms.ToTensor())\n",
        "loader_val = torch.utils.data.DataLoader(dataset_val, batch_size = 256, shuffle = True)"
      ],
      "execution_count": 4,
      "outputs": [
        {
          "output_type": "stream",
          "name": "stdout",
          "text": [
            "Files already downloaded and verified\n"
          ]
        }
      ]
    },
    {
      "cell_type": "markdown",
      "metadata": {
        "id": "QGDLesyDQpIb"
      },
      "source": [
        "## Etapa 3: Construção do autoencoder"
      ]
    },
    {
      "cell_type": "code",
      "metadata": {
        "id": "VrFGMM3Qiboh"
      },
      "source": [
        "class autoencoder(nn.Module):\n",
        "    def __init__(self):\n",
        "        super().__init__()\n",
        "        # Camadas do encoder\n",
        "        self.encoder0 = nn.Linear(in_features = 3072, out_features = 1536)\n",
        "        self.encoder1 = nn.Linear(1536, 768)\n",
        "        \n",
        "        # Camadas do decoder\n",
        "        self.decoder0 = nn.Linear(768, 1536)\n",
        "        self.decoder1 = nn.Linear(1536, 3072)\n",
        "        \n",
        "        # Camadas de ativação\n",
        "        self.activation0 = nn.ReLU()\n",
        "        self.activation1 = nn.Sigmoid()\n",
        "    \n",
        "    def forward(self, X):\n",
        "        # Estrutura do encoder\n",
        "        X = self.activation0(self.encoder0(X))\n",
        "        X = self.activation0(self.encoder1(X))\n",
        "        \n",
        "        # Estrutura do decoder\n",
        "        X = self.activation0(self.decoder0(X))\n",
        "        X = self.activation1(self.decoder1(X))\n",
        "        return X"
      ],
      "execution_count": 5,
      "outputs": []
    },
    {
      "cell_type": "code",
      "metadata": {
        "id": "yY9lDtY8BqnE",
        "outputId": "cd257ce8-8feb-4700-eac2-59f1dd761597",
        "colab": {
          "base_uri": "https://localhost:8080/"
        }
      },
      "source": [
        "device = torch.device('cuda') if torch.cuda.is_available() else torch.device('cpu')\n",
        "device"
      ],
      "execution_count": 6,
      "outputs": [
        {
          "output_type": "execute_result",
          "data": {
            "text/plain": [
              "device(type='cuda')"
            ]
          },
          "metadata": {},
          "execution_count": 6
        }
      ]
    },
    {
      "cell_type": "code",
      "metadata": {
        "id": "-FnosQO7BspO",
        "outputId": "f8eec26f-a842-4204-d29e-dfde1cb0af75",
        "colab": {
          "base_uri": "https://localhost:8080/"
        }
      },
      "source": [
        "model = autoencoder()\n",
        "model.to(device)"
      ],
      "execution_count": 7,
      "outputs": [
        {
          "output_type": "execute_result",
          "data": {
            "text/plain": [
              "autoencoder(\n",
              "  (encoder0): Linear(in_features=3072, out_features=1536, bias=True)\n",
              "  (encoder1): Linear(in_features=1536, out_features=768, bias=True)\n",
              "  (decoder0): Linear(in_features=768, out_features=1536, bias=True)\n",
              "  (decoder1): Linear(in_features=1536, out_features=3072, bias=True)\n",
              "  (activation0): ReLU()\n",
              "  (activation1): Sigmoid()\n",
              ")"
            ]
          },
          "metadata": {},
          "execution_count": 7
        }
      ]
    },
    {
      "cell_type": "code",
      "metadata": {
        "id": "X-YnfblQBxKG"
      },
      "source": [
        "criterion = nn.BCELoss()\n",
        "optimizer = optim.Adam(model.parameters())"
      ],
      "execution_count": 8,
      "outputs": []
    },
    {
      "cell_type": "markdown",
      "metadata": {
        "id": "appMwDHtRTN5"
      },
      "source": [
        "## Etapa 4: Treinamento do modelo"
      ]
    },
    {
      "cell_type": "code",
      "metadata": {
        "id": "OxqnJdUsELbQ",
        "outputId": "6eeafa1f-2bee-4511-b35e-1544c28c3053",
        "colab": {
          "base_uri": "https://localhost:8080/"
        }
      },
      "source": [
        "for epoch in range(100):\n",
        "    \n",
        "    # Treinamento\n",
        "    running_loss_train = 0.\n",
        "    for data in loader_train:\n",
        "        model.train()\n",
        "        inputs, _ = data # Descartando os rótulos porque não precisamos deles\n",
        "        inputs = inputs.to(device)\n",
        "        inputs = inputs.view(-1, 3072)\n",
        "        \n",
        "        optimizer.zero_grad()\n",
        "\n",
        "        outputs = model(inputs)\n",
        "        loss = criterion(outputs, inputs.view(*outputs.shape))\n",
        "        loss.backward()\n",
        "       \n",
        "        optimizer.step()\n",
        "\n",
        "        running_loss_train += loss.item()\n",
        "    \n",
        "    # Validação\n",
        "    running_loss_val = 0.\n",
        "    for data in loader_val:\n",
        "        model.eval()\n",
        "        inputs, _ = data\n",
        "        inputs = inputs.to(device)\n",
        "        inputs = inputs.view(-1, 3072)\n",
        "        outputs = model(inputs)\n",
        "        loss = criterion(outputs, inputs.view(*outputs.shape))\n",
        "        running_loss_val += loss.item()\n",
        "\n",
        "    # Final da época\n",
        "    print('ÉPOCA {:3d}: perda_train {:.5f} perda_val {:.5f}'.format(epoch + 1, running_loss_train/len(loader_train), running_loss_val/len(loader_val)))"
      ],
      "execution_count": 9,
      "outputs": [
        {
          "output_type": "stream",
          "name": "stdout",
          "text": [
            "ÉPOCA   1: perda_train 0.63545 perda_val 0.60941\n",
            "ÉPOCA   2: perda_train 0.60278 perda_val 0.59940\n",
            "ÉPOCA   3: perda_train 0.59387 perda_val 0.59142\n",
            "ÉPOCA   4: perda_train 0.58846 perda_val 0.59213\n",
            "ÉPOCA   5: perda_train 0.58533 perda_val 0.58532\n",
            "ÉPOCA   6: perda_train 0.58264 perda_val 0.58235\n",
            "ÉPOCA   7: perda_train 0.58081 perda_val 0.58146\n",
            "ÉPOCA   8: perda_train 0.57911 perda_val 0.57821\n",
            "ÉPOCA   9: perda_train 0.57823 perda_val 0.57932\n",
            "ÉPOCA  10: perda_train 0.57661 perda_val 0.57681\n",
            "ÉPOCA  11: perda_train 0.57596 perda_val 0.57605\n",
            "ÉPOCA  12: perda_train 0.57492 perda_val 0.57540\n",
            "ÉPOCA  13: perda_train 0.57383 perda_val 0.57584\n",
            "ÉPOCA  14: perda_train 0.57332 perda_val 0.57640\n",
            "ÉPOCA  15: perda_train 0.57254 perda_val 0.57415\n",
            "ÉPOCA  16: perda_train 0.57219 perda_val 0.57299\n",
            "ÉPOCA  17: perda_train 0.57118 perda_val 0.57170\n",
            "ÉPOCA  18: perda_train 0.57069 perda_val 0.57078\n",
            "ÉPOCA  19: perda_train 0.57009 perda_val 0.57170\n",
            "ÉPOCA  20: perda_train 0.56969 perda_val 0.57009\n",
            "ÉPOCA  21: perda_train 0.56944 perda_val 0.56906\n",
            "ÉPOCA  22: perda_train 0.56945 perda_val 0.57105\n",
            "ÉPOCA  23: perda_train 0.56878 perda_val 0.56853\n",
            "ÉPOCA  24: perda_train 0.56833 perda_val 0.56888\n",
            "ÉPOCA  25: perda_train 0.56798 perda_val 0.57076\n",
            "ÉPOCA  26: perda_train 0.56760 perda_val 0.56883\n",
            "ÉPOCA  27: perda_train 0.56709 perda_val 0.56934\n",
            "ÉPOCA  28: perda_train 0.56707 perda_val 0.56782\n",
            "ÉPOCA  29: perda_train 0.56690 perda_val 0.56765\n",
            "ÉPOCA  30: perda_train 0.56666 perda_val 0.56744\n",
            "ÉPOCA  31: perda_train 0.56638 perda_val 0.56679\n",
            "ÉPOCA  32: perda_train 0.56620 perda_val 0.56776\n",
            "ÉPOCA  33: perda_train 0.56590 perda_val 0.56809\n",
            "ÉPOCA  34: perda_train 0.56555 perda_val 0.56557\n",
            "ÉPOCA  35: perda_train 0.56584 perda_val 0.56791\n",
            "ÉPOCA  36: perda_train 0.56629 perda_val 0.56586\n",
            "ÉPOCA  37: perda_train 0.56532 perda_val 0.56580\n",
            "ÉPOCA  38: perda_train 0.56531 perda_val 0.56551\n",
            "ÉPOCA  39: perda_train 0.56493 perda_val 0.56581\n",
            "ÉPOCA  40: perda_train 0.56486 perda_val 0.56631\n",
            "ÉPOCA  41: perda_train 0.56453 perda_val 0.56645\n",
            "ÉPOCA  42: perda_train 0.56451 perda_val 0.56607\n",
            "ÉPOCA  43: perda_train 0.56481 perda_val 0.56586\n",
            "ÉPOCA  44: perda_train 0.56422 perda_val 0.56524\n",
            "ÉPOCA  45: perda_train 0.56390 perda_val 0.56489\n",
            "ÉPOCA  46: perda_train 0.56387 perda_val 0.56514\n",
            "ÉPOCA  47: perda_train 0.56373 perda_val 0.56415\n",
            "ÉPOCA  48: perda_train 0.56370 perda_val 0.56515\n",
            "ÉPOCA  49: perda_train 0.56368 perda_val 0.56521\n",
            "ÉPOCA  50: perda_train 0.56321 perda_val 0.56414\n",
            "ÉPOCA  51: perda_train 0.56351 perda_val 0.56492\n",
            "ÉPOCA  52: perda_train 0.56301 perda_val 0.56534\n",
            "ÉPOCA  53: perda_train 0.56326 perda_val 0.56398\n",
            "ÉPOCA  54: perda_train 0.56296 perda_val 0.56399\n",
            "ÉPOCA  55: perda_train 0.56296 perda_val 0.56809\n",
            "ÉPOCA  56: perda_train 0.56291 perda_val 0.56463\n",
            "ÉPOCA  57: perda_train 0.56334 perda_val 0.56384\n",
            "ÉPOCA  58: perda_train 0.56281 perda_val 0.56467\n",
            "ÉPOCA  59: perda_train 0.56257 perda_val 0.56289\n",
            "ÉPOCA  60: perda_train 0.56254 perda_val 0.56559\n",
            "ÉPOCA  61: perda_train 0.56250 perda_val 0.56297\n",
            "ÉPOCA  62: perda_train 0.56249 perda_val 0.56546\n",
            "ÉPOCA  63: perda_train 0.56230 perda_val 0.56366\n",
            "ÉPOCA  64: perda_train 0.56209 perda_val 0.56356\n",
            "ÉPOCA  65: perda_train 0.56224 perda_val 0.56450\n",
            "ÉPOCA  66: perda_train 0.56203 perda_val 0.56379\n",
            "ÉPOCA  67: perda_train 0.56190 perda_val 0.56297\n",
            "ÉPOCA  68: perda_train 0.56182 perda_val 0.56384\n",
            "ÉPOCA  69: perda_train 0.56175 perda_val 0.56274\n",
            "ÉPOCA  70: perda_train 0.56188 perda_val 0.56500\n",
            "ÉPOCA  71: perda_train 0.56185 perda_val 0.56355\n",
            "ÉPOCA  72: perda_train 0.56157 perda_val 0.56339\n",
            "ÉPOCA  73: perda_train 0.56164 perda_val 0.56321\n",
            "ÉPOCA  74: perda_train 0.56156 perda_val 0.56235\n",
            "ÉPOCA  75: perda_train 0.56166 perda_val 0.56285\n",
            "ÉPOCA  76: perda_train 0.56138 perda_val 0.56543\n",
            "ÉPOCA  77: perda_train 0.56137 perda_val 0.56320\n",
            "ÉPOCA  78: perda_train 0.56145 perda_val 0.56337\n",
            "ÉPOCA  79: perda_train 0.56139 perda_val 0.56273\n",
            "ÉPOCA  80: perda_train 0.56115 perda_val 0.56369\n",
            "ÉPOCA  81: perda_train 0.56096 perda_val 0.56340\n",
            "ÉPOCA  82: perda_train 0.56108 perda_val 0.56167\n",
            "ÉPOCA  83: perda_train 0.56097 perda_val 0.56302\n",
            "ÉPOCA  84: perda_train 0.56115 perda_val 0.56209\n",
            "ÉPOCA  85: perda_train 0.56088 perda_val 0.56439\n",
            "ÉPOCA  86: perda_train 0.56090 perda_val 0.56273\n",
            "ÉPOCA  87: perda_train 0.56073 perda_val 0.56379\n",
            "ÉPOCA  88: perda_train 0.56072 perda_val 0.56203\n",
            "ÉPOCA  89: perda_train 0.56052 perda_val 0.56262\n",
            "ÉPOCA  90: perda_train 0.56089 perda_val 0.56257\n",
            "ÉPOCA  91: perda_train 0.56052 perda_val 0.56169\n",
            "ÉPOCA  92: perda_train 0.56047 perda_val 0.56233\n",
            "ÉPOCA  93: perda_train 0.56054 perda_val 0.56227\n",
            "ÉPOCA  94: perda_train 0.56064 perda_val 0.56288\n",
            "ÉPOCA  95: perda_train 0.56112 perda_val 0.56225\n",
            "ÉPOCA  96: perda_train 0.56040 perda_val 0.56339\n",
            "ÉPOCA  97: perda_train 0.56042 perda_val 0.56199\n",
            "ÉPOCA  98: perda_train 0.56030 perda_val 0.56267\n",
            "ÉPOCA  99: perda_train 0.56044 perda_val 0.56191\n",
            "ÉPOCA 100: perda_train 0.56044 perda_val 0.56218\n"
          ]
        }
      ]
    },
    {
      "cell_type": "markdown",
      "metadata": {
        "id": "AyTjLzELSdQF"
      },
      "source": [
        "## Etapa 5: Geração do encoder"
      ]
    },
    {
      "cell_type": "code",
      "metadata": {
        "id": "wMRlArb6oqnk",
        "outputId": "b6dfd6a4-0fb1-4bdd-98b6-7011f8ca47f0",
        "colab": {
          "base_uri": "https://localhost:8080/"
        }
      },
      "source": [
        "list(model.children())"
      ],
      "execution_count": 10,
      "outputs": [
        {
          "output_type": "execute_result",
          "data": {
            "text/plain": [
              "[Linear(in_features=3072, out_features=1536, bias=True),\n",
              " Linear(in_features=1536, out_features=768, bias=True),\n",
              " Linear(in_features=768, out_features=1536, bias=True),\n",
              " Linear(in_features=1536, out_features=3072, bias=True),\n",
              " ReLU(),\n",
              " Sigmoid()]"
            ]
          },
          "metadata": {},
          "execution_count": 10
        }
      ]
    },
    {
      "cell_type": "code",
      "metadata": {
        "id": "dQyxuGUPDSXo"
      },
      "source": [
        "class encoder(nn.Module):\n",
        "    def __init__(self):\n",
        "        super().__init__()\n",
        "        self.encoder0 = list(model.children())[0]\n",
        "        self.encoder1 = list(model.children())[1]\n",
        "        \n",
        "        self.activation0 = list(model.children())[4]\n",
        "    \n",
        "    def forward(self, X):\n",
        "        X = self.activation0(self.encoder0(X))\n",
        "        X = self.activation0(self.encoder1(X))\n",
        "        \n",
        "        return X"
      ],
      "execution_count": 11,
      "outputs": []
    },
    {
      "cell_type": "code",
      "metadata": {
        "id": "Mh8dxynQDsqO",
        "outputId": "468bb822-5d72-4dce-95c1-4230faed7692",
        "colab": {
          "base_uri": "https://localhost:8080/"
        }
      },
      "source": [
        "model1 = encoder()\n",
        "model1.to(device)"
      ],
      "execution_count": 12,
      "outputs": [
        {
          "output_type": "execute_result",
          "data": {
            "text/plain": [
              "encoder(\n",
              "  (encoder0): Linear(in_features=3072, out_features=1536, bias=True)\n",
              "  (encoder1): Linear(in_features=1536, out_features=768, bias=True)\n",
              "  (activation0): ReLU()\n",
              ")"
            ]
          },
          "metadata": {},
          "execution_count": 12
        }
      ]
    },
    {
      "cell_type": "markdown",
      "metadata": {
        "id": "MJfl5-N7DvW3"
      },
      "source": [
        "## Etapa 6: Geração do decoder"
      ]
    },
    {
      "cell_type": "code",
      "metadata": {
        "id": "AIM8o2xADxjV"
      },
      "source": [
        "class decoder(nn.Module):\n",
        "    def __init__(self):\n",
        "        super().__init__()\n",
        "        self.decoder0 = list(model.children())[2]\n",
        "        self.decoder1 = list(model.children())[3]\n",
        "        \n",
        "        self.activation0 = list(model.children())[4]\n",
        "        self.activation1 = list(model.children())[5]\n",
        "    \n",
        "    def forward(self, X):\n",
        "        X = self.activation0(self.decoder0(X))\n",
        "        X = self.activation1(self.decoder1(X))\n",
        "        \n",
        "        return X"
      ],
      "execution_count": 13,
      "outputs": []
    },
    {
      "cell_type": "code",
      "metadata": {
        "id": "ZnxPxSjDEB1I",
        "outputId": "fc627de8-cf13-4d31-9f00-da9b1412e224",
        "colab": {
          "base_uri": "https://localhost:8080/"
        }
      },
      "source": [
        "model2 = decoder()\n",
        "model2.to(device)"
      ],
      "execution_count": 14,
      "outputs": [
        {
          "output_type": "execute_result",
          "data": {
            "text/plain": [
              "decoder(\n",
              "  (decoder0): Linear(in_features=768, out_features=1536, bias=True)\n",
              "  (decoder1): Linear(in_features=1536, out_features=3072, bias=True)\n",
              "  (activation0): ReLU()\n",
              "  (activation1): Sigmoid()\n",
              ")"
            ]
          },
          "metadata": {},
          "execution_count": 14
        }
      ]
    },
    {
      "cell_type": "markdown",
      "metadata": {
        "id": "oIY0ZIqzEDbW"
      },
      "source": [
        "## Etapa 7: Visualização dos resultados"
      ]
    },
    {
      "cell_type": "code",
      "metadata": {
        "id": "eYnre_ClEGPf"
      },
      "source": [
        "numero_imagens = 10\n",
        "\n",
        "# Imagens originais\n",
        "imagens_teste = next(iter(loader_val))[0][:numero_imagens]\n",
        "imagens_teste = imagens_teste.to(device)\n",
        "# Para passar para o encoder, temos que achatar os dados (a primeira dimensão representa o número de imagens, no caso 10).\n",
        "imagens_teste = imagens_teste.view(-1, 3072)"
      ],
      "execution_count": 15,
      "outputs": []
    },
    {
      "cell_type": "code",
      "metadata": {
        "id": "aMc4CkouEWPB"
      },
      "source": [
        "# Imagens codificadas \n",
        "model1.eval()\n",
        "imagens_codificadas = model1(imagens_teste)"
      ],
      "execution_count": 16,
      "outputs": []
    },
    {
      "cell_type": "code",
      "metadata": {
        "id": "JnKBSX8oEZok"
      },
      "source": [
        "# Imagens decodificadas\n",
        "model2.eval()\n",
        "imagens_decodificadas = model2(imagens_codificadas)"
      ],
      "execution_count": 17,
      "outputs": []
    },
    {
      "cell_type": "code",
      "metadata": {
        "id": "iBRj29IbEdDZ"
      },
      "source": [
        "# Formatando as imagens para visualização\n",
        "# Nesse caso, nós primeiro temos que retornar os dados para o formato original (n_amostras, n_dimensoes, n_pixels horizontal, n_pixels vertical), e depois permutar as dimensões porque o método que vamos usar para visualizar as imagens, `plt.imshow`, pede que as dimensões representando os canais de cor sejam os últimos.\n",
        "imagens_teste = imagens_teste.view(-1, 3, 32, 32).permute(0, 2, 3, 1).detach().cpu().numpy()\n",
        "imagens_codificadas = imagens_codificadas.view(-1, 3, 16, 16).permute(0, 2, 3, 1).detach().cpu().numpy()\n",
        "imagens_decodificadas = imagens_decodificadas.view(-1, 3, 32, 32).permute(0, 2, 3, 1).detach().cpu().numpy().reshape(-1, 32, 32, 3)"
      ],
      "execution_count": 18,
      "outputs": []
    },
    {
      "cell_type": "code",
      "metadata": {
        "id": "vR-wMRMyErVN",
        "outputId": "ed460285-b74e-41d9-b0d0-26773d99d499",
        "colab": {
          "base_uri": "https://localhost:8080/",
          "height": 420
        }
      },
      "source": [
        "fig, axes = plt.subplots(nrows = 3, ncols = numero_imagens, figsize = (10, 4))\n",
        "for imagens, ax_row in zip([imagens_teste, imagens_codificadas, imagens_decodificadas], axes):\n",
        "    for img, ax in zip(imagens, ax_row):\n",
        "        ax.imshow(img, cmap = 'gray')\n",
        "        ax.get_xaxis().set_visible(False)\n",
        "        ax.get_yaxis().set_visible(False)"
      ],
      "execution_count": 19,
      "outputs": [
        {
          "output_type": "stream",
          "name": "stderr",
          "text": [
            "WARNING:matplotlib.image:Clipping input data to the valid range for imshow with RGB data ([0..1] for floats or [0..255] for integers).\n",
            "WARNING:matplotlib.image:Clipping input data to the valid range for imshow with RGB data ([0..1] for floats or [0..255] for integers).\n",
            "WARNING:matplotlib.image:Clipping input data to the valid range for imshow with RGB data ([0..1] for floats or [0..255] for integers).\n",
            "WARNING:matplotlib.image:Clipping input data to the valid range for imshow with RGB data ([0..1] for floats or [0..255] for integers).\n",
            "WARNING:matplotlib.image:Clipping input data to the valid range for imshow with RGB data ([0..1] for floats or [0..255] for integers).\n",
            "WARNING:matplotlib.image:Clipping input data to the valid range for imshow with RGB data ([0..1] for floats or [0..255] for integers).\n",
            "WARNING:matplotlib.image:Clipping input data to the valid range for imshow with RGB data ([0..1] for floats or [0..255] for integers).\n",
            "WARNING:matplotlib.image:Clipping input data to the valid range for imshow with RGB data ([0..1] for floats or [0..255] for integers).\n",
            "WARNING:matplotlib.image:Clipping input data to the valid range for imshow with RGB data ([0..1] for floats or [0..255] for integers).\n",
            "WARNING:matplotlib.image:Clipping input data to the valid range for imshow with RGB data ([0..1] for floats or [0..255] for integers).\n"
          ]
        },
        {
          "output_type": "display_data",
          "data": {
            "text/plain": [
              "<Figure size 720x288 with 30 Axes>"
            ],
            "image/png": "[encoded data removed]"
          },
          "metadata": {
            "needs_background": "light"
          }
        }
      ]
    }
  ]
}